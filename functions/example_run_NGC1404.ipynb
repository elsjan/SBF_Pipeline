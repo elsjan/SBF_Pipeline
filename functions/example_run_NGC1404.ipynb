{
 "cells": [
  {
   "cell_type": "code",
   "execution_count": null,
   "id": "5da95cd8",
   "metadata": {},
   "outputs": [],
   "source": [
    "# General imports\n",
    "\n",
    "import numpy as np\n",
    "import matplotlib.pyplot as plt\n",
    "\n",
    "plt.rcParams[\"xtick.direction\"] = \"in\"\n",
    "plt.rcParams[\"ytick.direction\"] = \"in\"\n",
    "\n",
    "\n",
    "# Import pipeline\n",
    "path_to_pipeline = \"../pipeline\" # Fill in the path to the pipeline here\n",
    "\n",
    "import sys\n",
    "sys.path.append(path_to_pipeline)\n",
    "\n",
    "from sbf_pipeline import sbfPipeline\n",
    "from sbf_pipeline import createDirectory"
   ]
  },
  {
   "cell_type": "code",
   "execution_count": null,
   "id": "67416a0f",
   "metadata": {},
   "outputs": [],
   "source": [
    "# For the example, we run the algorithm for NGC 1404\n",
    "path_NGC1404 = \"data/NGC 1404\"\n",
    "\n",
    "# path in which the fits files for F110W band are stored\n",
    "data_path_NGC1404_F110W = path_NGC1404 + \"/F110W/drz\"\n",
    "\n",
    "# path where the files that are computed must be stored\n",
    "file_path_NGC1404_F110W = path_NGC1404 + \"/F110W/return_files_drz\"\n",
    "\n",
    "# path where the images must be stored\n",
    "image_path_NGC1404_F110W = path_NGC1404 + \"/F110W/images\"\n"
   ]
  },
  {
   "cell_type": "code",
   "execution_count": null,
   "id": "4852543a",
   "metadata": {},
   "outputs": [],
   "source": [
    "# run the sbf pipeline\n",
    "\n",
    "output = sbfPipeline(data_path_NGC1404_F110W,             # path where the fits files are stored\n",
    "                     file_path_NGC1404_F110W,             # path where the returned data products must be stored\n",
    "                     bool_files = [1,1,1],                # boolean array indicating the following things\n",
    "                                                          #    idx 0: Try to extract data products from file_path_xxx -> Yes or No\n",
    "                                                          #    idx 1: If no files present, do we want to compute the variables -> Yes or No\n",
    "                                                          #    idx 2: If computed, do we want to store the variables -> Yes or N0\n",
    "                     file_type=\"dr\",                      # file type; \"flt\" or \"dr\"\n",
    "                     obs_filter=\"F110W\",                  # Filter\n",
    "                     print_information=True,              # Print the info from the pipeline\n",
    "                     make_plots =True,                    # Do we want to make plots \n",
    "                     return_variables=False,              # return the array of variables in output?\n",
    "                     save_images=True,                    # Create graphs yes/no?\n",
    "                     image_path=image_path_NGC1404_F110W, # If images must be stored, present the image path here.\n",
    "                     lib_psf_peak_flux=0.2,               # Other parameters tweakable for the pipeline\n",
    "                     estimate_initial_background=True, \n",
    "                     gal_bckgr_frac=0.6,\n",
    "                     central_mask_radius=50)"
   ]
  },
  {
   "cell_type": "code",
   "execution_count": null,
   "id": "b00dccf7",
   "metadata": {},
   "outputs": [],
   "source": []
  }
 ],
 "metadata": {
  "kernelspec": {
   "display_name": "Python 3",
   "language": "python",
   "name": "python3"
  },
  "language_info": {
   "codemirror_mode": {
    "name": "ipython",
    "version": 3
   },
   "file_extension": ".py",
   "mimetype": "text/x-python",
   "name": "python",
   "nbconvert_exporter": "python",
   "pygments_lexer": "ipython3",
   "version": "3.7.3"
  }
 },
 "nbformat": 4,
 "nbformat_minor": 5
}
